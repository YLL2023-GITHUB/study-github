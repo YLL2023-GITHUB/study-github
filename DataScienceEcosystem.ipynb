{
 "cells": [
  {
   "cell_type": "markdown",
   "id": "85ba2170",
   "metadata": {},
   "source": [
    "# Data Science Tools and Ecosystem"
   ]
  },
  {
   "cell_type": "markdown",
   "id": "b8abed95",
   "metadata": {},
   "source": [
    "In this notebook, Data Science Tools and Ecosystem are summarized."
   ]
  },
  {
   "cell_type": "markdown",
   "id": "31cbe763",
   "metadata": {},
   "source": [
    "#  In this notebook, Data Science Tools and Ecosystem are summarized"
   ]
  },
  {
   "cell_type": "markdown",
   "id": "88a8bdb9",
   "metadata": {},
   "source": [
    "Some of the popular languages that Data Scientists use are:"
   ]
  },
  {
   "cell_type": "markdown",
   "id": "80e3cbb3",
   "metadata": {},
   "source": [
    "1. Python\n",
    "\n",
    "2. Julia\n",
    "\n",
    "3. R\n"
   ]
  },
  {
   "cell_type": "markdown",
   "id": "fb417ff9",
   "metadata": {},
   "source": [
    "Some of the commonly used libraries used by Data Scientists include:"
   ]
  },
  {
   "cell_type": "markdown",
   "id": "7c2c201f",
   "metadata": {},
   "source": [
    "1.Pandas\n",
    "\n",
    "2.Numpy\n",
    "\n",
    "3.TensorFlow"
   ]
  },
  {
   "cell_type": "markdown",
   "id": "3cc80902",
   "metadata": {},
   "source": [
    "|Data Science Tools|\n",
    "|------------------|\n",
    "|Jupyter Notebook  |\n",
    "|Git               |\n",
    "|Rstudio           |\n",
    "\n"
   ]
  },
  {
   "cell_type": "markdown",
   "id": "5c9227d8",
   "metadata": {},
   "source": [
    "### Below are a few examples of evaluating arithmetic expressions in Python"
   ]
  },
  {
   "cell_type": "markdown",
   "id": "f9eff877",
   "metadata": {},
   "source": [
    "This a simple arithmetic expression to mutiply then add integers"
   ]
  },
  {
   "cell_type": "markdown",
   "id": "8800f996",
   "metadata": {},
   "source": [
    "This will convert 200 minutes to hours by diving by 60"
   ]
  },
  {
   "cell_type": "code",
   "execution_count": 8,
   "id": "c973f981",
   "metadata": {},
   "outputs": [
    {
     "data": {
      "text/plain": [
       "3.3333333333333335"
      ]
     },
     "execution_count": 8,
     "metadata": {},
     "output_type": "execute_result"
    }
   ],
   "source": [
    "200/60"
   ]
  },
  {
   "cell_type": "markdown",
   "id": "6063dacc",
   "metadata": {},
   "source": [
    "**Objectives**\n",
    "\n",
    "-R\n",
    "\n",
    "-python\n",
    "\n",
    "-JavaScript\n",
    "\n",
    "-SQL\n",
    "\n",
    "-Julia\n",
    "\n",
    "\n",
    "\n",
    "3*4+5"
   ]
  },
  {
   "cell_type": "markdown",
   "id": "bd0349b7",
   "metadata": {},
   "source": [
    "##  AUTHOR"
   ]
  },
  {
   "cell_type": "markdown",
   "id": "391475cf",
   "metadata": {},
   "source": [
    "Yanyi"
   ]
  },
  {
   "cell_type": "code",
   "execution_count": null,
   "id": "1292ad0b",
   "metadata": {},
   "outputs": [],
   "source": []
  }
 ],
 "metadata": {
  "kernelspec": {
   "display_name": "Python 3 (ipykernel)",
   "language": "python",
   "name": "python3"
  },
  "language_info": {
   "codemirror_mode": {
    "name": "ipython",
    "version": 3
   },
   "file_extension": ".py",
   "mimetype": "text/x-python",
   "name": "python",
   "nbconvert_exporter": "python",
   "pygments_lexer": "ipython3",
   "version": "3.11.3"
  }
 },
 "nbformat": 4,
 "nbformat_minor": 5
}
